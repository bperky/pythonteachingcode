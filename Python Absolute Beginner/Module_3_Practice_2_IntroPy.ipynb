{
 "cells": [
  {
   "cell_type": "markdown",
   "metadata": {},
   "source": [
    "# 1-5 Intro Python Practice  \n",
    "## conditionals, type, and mathematics extended   \n",
    "&nbsp;\n",
    "<font size=\"5\" color=\"#00A0B2\"  face=\"verdana\"> <B>Student will be able to</B></font>  \n",
    "- code more than two choices using **`elif`** \n",
    "- gather numeric input using type casting  \n",
    "- perform subtraction, multiplication and division operations in code  &nbsp;  \n"
   ]
  },
  {
   "cell_type": "markdown",
   "metadata": {},
   "source": [
    "# &nbsp;  \n",
    "<font size=\"6\" color=\"#B24C00\"  face=\"verdana\"> <B>Tasks</B></font>"
   ]
  },
  {
   "cell_type": "markdown",
   "metadata": {},
   "source": [
    "### Rainbow colors\n",
    "ask for input of a favorite rainbow color first letter: ROYGBIV  \n",
    "\n",
    "Using `if`, `elif`, and `else`:  \n",
    "- print the color matching the letter  \n",
    "    - R = Red  \n",
    "    - O = Orange  \n",
    "    - Y = Yellow  \n",
    "    - G = Green\n",
    "    - B = Blue\n",
    "    - I = Indigo\n",
    "    - V = Violet\n",
    "    - else print \"no match\"\n"
   ]
  },
  {
   "cell_type": "code",
   "execution_count": 1,
   "metadata": {},
   "outputs": [
    {
     "name": "stdout",
     "output_type": "stream",
     "text": [
      "Type the letter of your favorite rainbow color (ROYGBIV)g\n",
      "Green\n"
     ]
    }
   ],
   "source": [
    "# [ ] complete rainbow colors\n",
    "letter = input(\"Type the letter of your favorite rainbow color (ROYGBIV)\").upper()\n",
    "\n",
    "if letter == \"R\":\n",
    "    print(\"Red\")\n",
    "elif letter == \"O\":\n",
    "    print(\"Orange\")\n",
    "elif letter == \"Y\":\n",
    "    print(\"Yellow\")\n",
    "elif letter == \"G\":\n",
    "    print(\"Green\")\n",
    "elif letter == \"B\":\n",
    "    print(\"Blue\")\n",
    "elif letter == \"I\":\n",
    "    print(\"Indigo\")\n",
    "elif letter == \"V\":\n",
    "    print(\"Violet\")\n",
    "else:\n",
    "    print(\"no match\")\n",
    "\n",
    "\n"
   ]
  },
  {
   "cell_type": "code",
   "execution_count": 2,
   "metadata": {},
   "outputs": [
    {
     "name": "stdout",
     "output_type": "stream",
     "text": [
      "Type the letter of your favorite rainbow color (ROYGBIV)r\n",
      "Red\n"
     ]
    }
   ],
   "source": [
    "# [ ] make the code above into a function rainbow_color() that has a string parameter, \n",
    "# get input and call the function and return the matching color as a string or \"no match\" message.\n",
    "# Call the function and print the return string.\n",
    "\n",
    "letter = input(\"Type the letter of your favorite rainbow color (ROYGBIV)\").upper()\n",
    "\n",
    "def rainbow_color(letter):\n",
    "    if letter == \"R\":\n",
    "        print(\"Red\")\n",
    "    elif letter == \"O\":\n",
    "        print(\"Orange\")\n",
    "    elif letter == \"Y\":\n",
    "        print(\"Yellow\")\n",
    "    elif letter == \"G\":\n",
    "        print(\"Green\")\n",
    "    elif letter == \"B\":\n",
    "        print(\"Blue\")\n",
    "    elif letter == \"I\":\n",
    "        print(\"Indigo\")\n",
    "    elif letter == \"V\":\n",
    "        print(\"Violet\")\n",
    "    else:\n",
    "        print(\"no match\")\n",
    "\n",
    "rainbow_color(letter)"
   ]
  },
  {
   "cell_type": "markdown",
   "metadata": {},
   "source": [
    "# &nbsp;  \n",
    "**Create function age_20() that adds or subtracts 20 from your age for a return value based on current age** (use `if`) \n",
    "- call the funtion with user input and then use the return value in a sentence  \n",
    "example `age_20(25)` returns **5**: \n",
    "> \"5 years old, 20 years difference from now\""
   ]
  },
  {
   "cell_type": "code",
   "execution_count": 7,
   "metadata": {
    "scrolled": true
   },
   "outputs": [
    {
     "name": "stdout",
     "output_type": "stream",
     "text": [
      "Age:40\n",
      "20\n"
     ]
    }
   ],
   "source": [
    "# [ ] complete age_20()\n",
    "age = input(\"Age:\")\n",
    "def age_20(age):\n",
    "    if int(age)>20:\n",
    "        print(int(age)-20)\n",
    "    elif int(age)<=20:\n",
    "        print(int(age)+20)\n",
    "age_20(age)\n",
    "    \n",
    "    \n"
   ]
  },
  {
   "cell_type": "markdown",
   "metadata": {},
   "source": [
    "**create a function rainbow_or_age that takes a string argument**\n",
    "- if argument is a digit return the value of calling age_20() with the str value cast as **`int`** \n",
    "- if argument is an alphabetical character return the value of calling rainbow_color() with the str\n",
    "- if neither return FALSE"
   ]
  },
  {
   "cell_type": "code",
   "execution_count": 8,
   "metadata": {},
   "outputs": [
    {
     "name": "stdout",
     "output_type": "stream",
     "text": [
      "Enter the letter of your favorite rainbow color (ROYGBIV) or your age:45\n",
      "25\n"
     ]
    }
   ],
   "source": [
    "# [ ]  create rainbow_or_age()\n",
    "arg = input(\"Enter the letter of your favorite rainbow color (ROYGBIV) or your age:\")\n",
    "def rainbow_or_age(arg):\n",
    "    if arg.isdigit():\n",
    "        age_20(arg)\n",
    "    elif arg.isalpha:\n",
    "        rainbow_color(arg.upper())\n",
    "rainbow_or_age(arg)"
   ]
  },
  {
   "cell_type": "code",
   "execution_count": 9,
   "metadata": {
    "scrolled": false
   },
   "outputs": [
    {
     "name": "stdout",
     "output_type": "stream",
     "text": [
      "Number 1:34\n",
      "Number 2:67\n",
      "101\n"
     ]
    }
   ],
   "source": [
    "# [ ]  add 2 numbers from input using a cast to integer and display the answer \n",
    "no1 = input(\"Number 1:\")\n",
    "no2 = input(\"Number 2:\")\n",
    "\n",
    "print(int(no1) + int(no2))\n",
    "\n"
   ]
  },
  {
   "cell_type": "code",
   "execution_count": 4,
   "metadata": {
    "scrolled": false
   },
   "outputs": [
    {
     "name": "stdout",
     "output_type": "stream",
     "text": [
      "Number 1:7\n",
      "Number 2:14\n",
      "('The answer is', 98)\n"
     ]
    }
   ],
   "source": [
    "# [ ] Multiply 2 numbers from input using cast and save the answer as part of a string \"the answer is...\"\n",
    "# display the string using print\n",
    "mult1 = input(\"Number 1:\")\n",
    "mult2 = input(\"Number 2:\")\n",
    "\n",
    "answer= \"The answer is\", int(mult1) * int(mult2)\n",
    "\n",
    "print(answer)\n",
    "\n",
    "\n"
   ]
  },
  {
   "cell_type": "code",
   "execution_count": 6,
   "metadata": {
    "scrolled": false
   },
   "outputs": [
    {
     "name": "stdout",
     "output_type": "stream",
     "text": [
      "Number 1:54\n",
      "Number 2:13\n",
      "Average: 33.5\n"
     ]
    }
   ],
   "source": [
    "# [ ] get input of 2 numbers and display the average: (num1 + num2) divided by 2\n",
    "\n",
    "num1 = input(\"Number 1:\")\n",
    "num2 = input(\"Number 2:\")\n",
    "\n",
    "print(\"Average:\",(int(num1) + int(num2))/2)\n"
   ]
  },
  {
   "cell_type": "code",
   "execution_count": 20,
   "metadata": {
    "scrolled": true
   },
   "outputs": [
    {
     "name": "stdout",
     "output_type": "stream",
     "text": [
      "Number 1:6\n",
      "Number 2:18\n",
      "12\n"
     ]
    }
   ],
   "source": [
    "# [ ] get input of 2 numbers and subtract the largest from the smallest (use an if statement to see which is larger)\n",
    "# show the answer\n",
    "\n",
    "num1 = int(input(\"Number 1:\"))\n",
    "num2 = int(input(\"Number 2:\"))\n",
    "\n",
    "if int(num1) > int(num2):\n",
    "    print(int(num1) - int(num2))\n",
    "          \n",
    "elif int(num1)<= int(num2):\n",
    "    print(int(num2) - int(num1))\n",
    "\n"
   ]
  },
  {
   "cell_type": "code",
   "execution_count": 19,
   "metadata": {},
   "outputs": [
    {
     "name": "stdout",
     "output_type": "stream",
     "text": [
      "Number 1:0\n",
      "Number 2:23\n",
      "0\n"
     ]
    }
   ],
   "source": [
    "# [ ] Divide a larger number by a smaller number and print the integer part of the result\n",
    "# don't divide by zero! if a zero is input make the result zero\n",
    "# [ ] cast the answer to an integer to cut off the decimals and print the result\n",
    "\n",
    "num1 = int(input(\"Number 1:\"))\n",
    "num2 = int(input(\"Number 2:\"))\n",
    "\n",
    "if num1 == 0:\n",
    "    print(0)\n",
    "elif num2 == 0:\n",
    "    print(0)\n",
    "elif num1 <= num2:\n",
    "    print(int(num2/num1))\n",
    "elif num1 > num2:\n",
    "    print(int(num1/num2))\n"
   ]
  },
  {
   "cell_type": "markdown",
   "metadata": {},
   "source": [
    "[Terms of use](http://go.microsoft.com/fwlink/?LinkID=206977) &nbsp; [Privacy & cookies](https://go.microsoft.com/fwlink/?LinkId=521839) &nbsp; © 2017 Microsoft"
   ]
  }
 ],
 "metadata": {
  "anaconda-cloud": {},
  "kernelspec": {
   "display_name": "Python 3",
   "language": "python",
   "name": "python3"
  },
  "language_info": {
   "codemirror_mode": {
    "name": "ipython",
    "version": 3
   },
   "file_extension": ".py",
   "mimetype": "text/x-python",
   "name": "python",
   "nbconvert_exporter": "python",
   "pygments_lexer": "ipython3",
   "version": "3.7.3"
  }
 },
 "nbformat": 4,
 "nbformat_minor": 1
}
