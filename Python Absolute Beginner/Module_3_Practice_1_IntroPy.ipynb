{
 "cells": [
  {
   "cell_type": "markdown",
   "metadata": {},
   "source": [
    "# 1-4.3 Intro Python Practice\n",
    "## Conditionals \n",
    "<font size=\"5\" color=\"#00A0B2\"  face=\"verdana\"> <B>Student will be able to</B></font>  \n",
    "- **control code flow with `if`... `else` conditional logic**  \n",
    "  - using Boolean string methods (`.isupper(), .isalpha(), .startswith()...`)  \n",
    "  - using comparision (`>, <, >=, <=, ==, !=`)  \n",
    "  - using Strings in comparisons  "
   ]
  },
  {
   "cell_type": "markdown",
   "metadata": {},
   "source": [
    "## `if else`\n"
   ]
  },
  {
   "cell_type": "code",
   "execution_count": 2,
   "metadata": {
    "scrolled": false
   },
   "outputs": [
    {
     "name": "stdout",
     "output_type": "stream",
     "text": [
      "Age:13\n",
      "Age in 10 years: 23\n"
     ]
    }
   ],
   "source": [
    "# [ ] input avariable: age as digit and cast to int\n",
    "# if age greater than or equal to 12 then print message on age in 10 years \n",
    "# or else print message \"It is good to be\" age\n",
    "age = input(\"Age:\")\n",
    "\n",
    "if int(age) >= 12:\n",
    "    print(\"Age in 10 years:\",int(age)+10)\n",
    "else:\n",
    "    print(\"It is good to be\",age)\n",
    "\n",
    "\n",
    "\n"
   ]
  },
  {
   "cell_type": "code",
   "execution_count": 10,
   "metadata": {
    "scrolled": true
   },
   "outputs": [
    {
     "name": "stdout",
     "output_type": "stream",
     "text": [
      "Number:9\n",
      "9 greater than 100 is False\n"
     ]
    }
   ],
   "source": [
    "# [ ] input a number \n",
    "# if number IS a digit string then cast to int\n",
    "# print number \"greater than 100 is\" True/False\n",
    "# if number is NOT a digit string then message the user that \"only int is accepted\"\n",
    "\n",
    "number = input(\"Number:\")\n",
    "\n",
    "if number.isdigit() == True:\n",
    "    print(number,\"greater than 100 is\",int(number)>100)\n",
    "else:\n",
    "    print(\"only int is accepted\")\n",
    "\n"
   ]
  },
  {
   "cell_type": "markdown",
   "metadata": {},
   "source": [
    "### Guessing a letter A-Z  \n",
    "**check_guess()** takes 2 string arguments: **letter and guess** (both expect single alphabetical character)   \n",
    "    - if guess is not an alpha character print invalid and return False\n",
    "    - test and print if guess is \"high\" or \"low\" and return False\n",
    "    - test and print if guess is \"correct\" and return True"
   ]
  },
  {
   "cell_type": "code",
   "execution_count": 15,
   "metadata": {},
   "outputs": [
    {
     "name": "stdout",
     "output_type": "stream",
     "text": [
      "Guess a letter:h\n",
      "False. Too low.\n"
     ]
    }
   ],
   "source": [
    "# [ ] create check_guess()\n",
    "# call with test\n",
    "letter = \"r\"\n",
    "guess = input(\"Guess a letter:\")\n",
    "\n",
    "def check_guess(letter,guess):\n",
    "    if guess.isalpha() == False:\n",
    "        print(\"Invalid\")\n",
    "    elif guess == letter:\n",
    "        print(\"True\")\n",
    "    elif guess >= letter:\n",
    "        print(\"False. Too high.\")\n",
    "    elif guess <= letter:\n",
    "        print(\"False. Too low.\")\n",
    "\n",
    "\n"
   ]
  },
  {
   "cell_type": "code",
   "execution_count": 17,
   "metadata": {},
   "outputs": [
    {
     "name": "stdout",
     "output_type": "stream",
     "text": [
      "Guess a letter:w\n",
      "False. Too high.\n"
     ]
    }
   ],
   "source": [
    "# [ ] call check_guess with user input\n",
    "guess = input(\"Guess a letter:\")\n",
    "check_guess(letter,guess)\n"
   ]
  },
  {
   "cell_type": "markdown",
   "metadata": {},
   "source": [
    "### Letter Guess\n",
    "**create letter_guess() function that gives user 3 guesses**\n",
    "- takes a letter character argument for the answer letter\n",
    "- gets user input for letter guess  \n",
    "- calls check_guess() with answer and guess\n",
    "- End letter_guess if \n",
    "    - check_guess() equals True, return True  \n",
    "    - or after 3 failed attempts, return False"
   ]
  },
  {
   "cell_type": "code",
   "execution_count": 18,
   "metadata": {},
   "outputs": [
    {
     "name": "stdout",
     "output_type": "stream",
     "text": [
      "1st Guess:e\n",
      "False. Too high.\n",
      "2nd Guess:s\n",
      "False. Too high.\n",
      "3rd Guess:a\n",
      "False. Too low.\n",
      "False\n"
     ]
    }
   ],
   "source": [
    "# [ ] create letter_guess() function, call the function to test\n",
    "\n",
    "def letter_guess(letter):\n",
    "    guess1 = input(\"1st Guess:\")\n",
    "    \n",
    "    if check_guess(letter,guess1) == True:\n",
    "        print(\"True\")\n",
    "    else:\n",
    "        guess2 = input(\"2nd Guess:\")\n",
    "        if check_guess(letter,guess2) == True:\n",
    "            print(\"True\")\n",
    "        else:\n",
    "            guess3 = input(\"3rd Guess:\")\n",
    "            if check_guess(letter,guess3) == True:\n",
    "                print(\"True\")\n",
    "            else:\n",
    "                print(\"False\")\n",
    "                \n",
    "letter_guess(\"c\")\n",
    "        \n"
   ]
  },
  {
   "cell_type": "markdown",
   "metadata": {},
   "source": [
    "### Pet Conversation\n",
    "**ask the user for a sentence about a pet and then reply**  \n",
    "- get user input in variable: about_pet\n",
    "- using a series of **if** statements respond with appropriate conversation\n",
    "  - check if \"dog\" is in the string about_pet (sample reply \"Ah, a dog\")\n",
    "  - check if \"cat\" is in the string about_pet\n",
    "  - check if 1 or more animal is in string about_pet\n",
    "- no need for **else**'s\n",
    "- finish with thanking for the story"
   ]
  },
  {
   "cell_type": "code",
   "execution_count": 20,
   "metadata": {},
   "outputs": [
    {
     "name": "stdout",
     "output_type": "stream",
     "text": [
      "Tell me a story about your petMy cat is so fat\n",
      "That's neat. I have a cat too.\n",
      "Thanks for the story.\n"
     ]
    }
   ],
   "source": [
    "# [ ] complete pet conversation\n",
    "\n",
    "about_pet = input(\"Tell me a story about your pet\")\n",
    "\n",
    "if \"dog\" in about_pet.lower():\n",
    "    print(\"Nice dog!\")\n",
    "elif \"cat\" in about_pet.lower():\n",
    "    print(\"That's neat. I have a cat too.\")\n",
    "elif \"crab\" in about_pet.lower():\n",
    "    print(\"Hermit crabs are pretty cool.\")\n",
    "\n",
    "print(\"Thanks for the story.\")\n",
    "\n"
   ]
  },
  {
   "cell_type": "markdown",
   "metadata": {
    "collapsed": true
   },
   "source": [
    "[Terms of use](http://go.microsoft.com/fwlink/?LinkID=206977) &nbsp; [Privacy & cookies](https://go.microsoft.com/fwlink/?LinkId=521839) &nbsp; © 2017 Microsoft"
   ]
  }
 ],
 "metadata": {
  "anaconda-cloud": {},
  "kernelspec": {
   "display_name": "Python 3",
   "language": "python",
   "name": "python3"
  },
  "language_info": {
   "codemirror_mode": {
    "name": "ipython",
    "version": 3
   },
   "file_extension": ".py",
   "mimetype": "text/x-python",
   "name": "python",
   "nbconvert_exporter": "python",
   "pygments_lexer": "ipython3",
   "version": "3.7.3"
  }
 },
 "nbformat": 4,
 "nbformat_minor": 1
}
