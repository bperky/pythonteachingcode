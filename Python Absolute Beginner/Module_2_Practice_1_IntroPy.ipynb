{
 "cells": [
  {
   "cell_type": "markdown",
   "metadata": {},
   "source": [
    "# 1-3 Intro Python Practice\n",
    "## Functions Arguments & Parameters\n",
    "<font size=\"5\" color=\"#00A0B2\"  face=\"verdana\"> <B>Student will be able to</B></font>  \n",
    "- **create functions with a parameter**  \n",
    "- **create functions with a `return` value** \n",
    "- **create functions with multiple parameters**\n",
    "- **use knowledge of sequence in coding tasks**  \n",
    "- **use coding best practices** "
   ]
  },
  {
   "cell_type": "markdown",
   "metadata": {},
   "source": [
    "## &nbsp;\n",
    "<font size=\"6\" color=\"#B24C00\"  face=\"verdana\"> <B>Tasks</B></font>"
   ]
  },
  {
   "cell_type": "code",
   "execution_count": 4,
   "metadata": {
    "scrolled": false
   },
   "outputs": [
    {
     "name": "stdout",
     "output_type": "stream",
     "text": [
      "just gotta walk through the door\n",
      "like a kid in a candy store\n"
     ]
    }
   ],
   "source": [
    "# [ ] define and call a function short_rhyme() that prints a 2 line rhyme\n",
    "def short_rhyme():\n",
    "    line1 = \"just gotta walk through the door\"\n",
    "    line2 = \"like a kid in a candy store\"\n",
    "    # those are jojo siwa lyrics\n",
    "    print(line1)\n",
    "    print(line2)\n",
    "    \n",
    "short_rhyme()\n"
   ]
  },
  {
   "cell_type": "code",
   "execution_count": 3,
   "metadata": {
    "scrolled": true
   },
   "outputs": [
    {
     "name": "stdout",
     "output_type": "stream",
     "text": [
      "This is a message\n"
     ]
    }
   ],
   "source": [
    "# [ ] define (def) a simple function: title_it() and call the function\n",
    "# - has a string parameter: msg\n",
    "# - prints msg in Title Case\n",
    "msg = \"this is a message\"\n",
    "\n",
    "def title_it():\n",
    "    print(msg.capitalize())\n",
    "    \n",
    "title_it()\n"
   ]
  },
  {
   "cell_type": "code",
   "execution_count": 2,
   "metadata": {
    "scrolled": true
   },
   "outputs": [
    {
     "name": "stdout",
     "output_type": "stream",
     "text": [
      "what is the title?this is the title\n",
      "This is the title\n"
     ]
    }
   ],
   "source": [
    "# [ ] get user input with prompt \"what is the title?\" \n",
    "# [ ] call title_it() using input for the string argument\n",
    "\n",
    "msg = input(\"what is the title?\")\n",
    "title_it()\n",
    "\n"
   ]
  },
  {
   "cell_type": "code",
   "execution_count": 17,
   "metadata": {
    "scrolled": false
   },
   "outputs": [
    {
     "name": "stdout",
     "output_type": "stream",
     "text": [
      "String: ben's string\n"
     ]
    },
    {
     "data": {
      "text/plain": [
       "\"Ben's string\""
      ]
     },
     "execution_count": 17,
     "metadata": {},
     "output_type": "execute_result"
    }
   ],
   "source": [
    "# [ ] define title_it_rtn() which returns a titled string instead of printing\n",
    "# [ ] call title_it_rtn() using input for the string argumetnt and print the result\n",
    "string = input(\"String: \")\n",
    "\n",
    "def title_it_rtn(string):\n",
    "    return string.capitalize()\n",
    "    \n",
    "title_it_rtn(string)    \n"
   ]
  },
  {
   "cell_type": "markdown",
   "metadata": {},
   "source": [
    "## Program: bookstore()\n",
    "create and test bookstore()\n",
    "- **bookstore() takes 2 string arguments: book & price**\n",
    "- **bookstore returns a string in sentence form** \n",
    "- **bookstore() should call title_it_rtn()** with book parameter  \n",
    "- **gather input for book_entry and price_entry to use in calling bookstore()**\n",
    "- **print the return value of bookstore()**\n",
    ">example of output: **`Title: The Adventures Of Sherlock Holmes, costs $12.99`**"
   ]
  },
  {
   "cell_type": "code",
   "execution_count": 21,
   "metadata": {
    "scrolled": true
   },
   "outputs": [
    {
     "name": "stdout",
     "output_type": "stream",
     "text": [
      "Book Title: volume 7\n",
      "Price: 29\n",
      "Title: Volume 7 , costs 29\n"
     ]
    }
   ],
   "source": [
    "# [ ] create, call and test bookstore() function\n",
    "def bookstore(book,price):\n",
    "    return(print(\"Title:\",title_it_rtn(book),', costs',price))\n",
    "\n",
    "book = input(\"Book Title: \")\n",
    "string = book\n",
    "price = input(\"Price: \")\n",
    "\n",
    "bookstore(book,price)\n"
   ]
  },
  {
   "cell_type": "markdown",
   "metadata": {},
   "source": [
    "### Fix the error"
   ]
  },
  {
   "cell_type": "code",
   "execution_count": 22,
   "metadata": {},
   "outputs": [
    {
     "name": "stdout",
     "output_type": "stream",
     "text": [
      "enter a name: Ben\n",
      "enter a greeting: What's up\n",
      "What's up Ben!\n"
     ]
    }
   ],
   "source": [
    "def make_greeting(name, greeting = \"Hello\"):\n",
    "    return (greeting + \" \" + name + \"!\")\n",
    "\n",
    "def get_name():\n",
    "    name_entry = input(\"enter a name: \")\n",
    "    return name_entry\n",
    "\n",
    "def get_greeting():\n",
    "    greeting_entry = input(\"enter a greeting: \")\n",
    "    return greeting_entry\n",
    "\n",
    "# get name and greeting, send to make_greeting \n",
    "print(make_greeting(get_name(), get_greeting()))\n",
    "\n",
    "\n",
    "\n"
   ]
  },
  {
   "cell_type": "markdown",
   "metadata": {},
   "source": [
    "\n",
    "[Terms of use](http://go.microsoft.com/fwlink/?LinkID=206977) &nbsp; [Privacy & cookies](https://go.microsoft.com/fwlink/?LinkId=521839) &nbsp; © 2017 Microsoft"
   ]
  }
 ],
 "metadata": {
  "anaconda-cloud": {},
  "kernelspec": {
   "display_name": "Python 3",
   "language": "python",
   "name": "python3"
  }
 },
 "nbformat": 4,
 "nbformat_minor": 1
}
