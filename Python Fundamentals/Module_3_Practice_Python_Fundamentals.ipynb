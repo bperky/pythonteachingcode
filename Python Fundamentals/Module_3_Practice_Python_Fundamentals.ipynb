{
 "cells": [
  {
   "cell_type": "markdown",
   "metadata": {},
   "source": [
    "# 2-3 Intro Python Practice  \n",
    "## power iteration of sequences\n",
    "\n",
    "<font size=\"5\" color=\"#00A0B2\"  face=\"verdana\"> <B>Student will be able to</B></font>  \n",
    "- Iterate through Lists using **`for`** and **`in`**\n",
    "- Use **`for` *`count`* `in range()`** in looping operations  \n",
    "- Use list methods **`.extend()`, `+, .reverse(), .sort()`**  \n",
    "- convert between lists and strings using  **`.split()`** and **`.join()`**\n",
    "- cast strings to lists **/** direct multiple print outputs to a single line.  ** `print(\"hi\", end='')`**"
   ]
  },
  {
   "cell_type": "markdown",
   "metadata": {},
   "source": [
    "# &nbsp;\n",
    "<font size=\"6\" color=\"#B24C00\"  face=\"verdana\"> <B>Task 1</B></font>\n",
    "##  list iteration: `for in`\n",
    "### `for item in list:`"
   ]
  },
  {
   "cell_type": "code",
   "execution_count": 4,
   "metadata": {},
   "outputs": [
    {
     "name": "stdout",
     "output_type": "stream",
     "text": [
      "Solid - is state of matter # 1\n",
      "Liquid - is state of matter # 2\n",
      "Gas - is state of matter # 3\n",
      "Plasma - is state of matter # 4\n"
     ]
    }
   ],
   "source": [
    "# [ ] print out the \"physical states of matter\" (matter_states) in 4 sentences using list iteration\n",
    "# each sentence should be of the format: \"Solid - is state of matter #1\" \n",
    "matter_states = ['solid', 'liquid', 'gas', 'plasma']\n",
    "number = 1\n",
    "for state in matter_states:\n",
    "    print(state.capitalize(),\"-\",\"is state of matter #\",number)\n",
    "    number += 1"
   ]
  },
  {
   "cell_type": "code",
   "execution_count": 6,
   "metadata": {},
   "outputs": [
    {
     "name": "stdout",
     "output_type": "stream",
     "text": [
      "['turkey', 'hawk', 'dove']\n"
     ]
    }
   ],
   "source": [
    "# [ ] iterate the list (birds) to see any bird names start with \"c\" and remove that item from the list\n",
    "# print the birds list before and after removals\n",
    "birds = [\"turkey\", \"hawk\", \"chicken\", \"dove\", \"crow\"]\n",
    "\n",
    "for bird in birds:\n",
    "    if bird.startswith(\"c\"):\n",
    "        birds.remove(bird)\n",
    "    else:\n",
    "        pass\n",
    "print(birds)\n"
   ]
  },
  {
   "cell_type": "code",
   "execution_count": 7,
   "metadata": {},
   "outputs": [
    {
     "name": "stdout",
     "output_type": "stream",
     "text": [
      "1pt: 4 \n",
      "2pt: 8 \n",
      "3pt: 3\n"
     ]
    }
   ],
   "source": [
    "# the team makes 1pt, 2pt or 3pt baskets\n",
    "# [ ] print the occurace of each type of basket(1pt, 2pt, 3pt) & total points using the list baskets\n",
    "baskets = [2,2,2,1,2,1,3,3,1,2,2,2,2,1,3]\n",
    "one = 0\n",
    "two = 0\n",
    "three = 0\n",
    "\n",
    "for basket in baskets:\n",
    "    if basket == 1:\n",
    "        one += 1\n",
    "    elif basket == 2:\n",
    "        two += 1\n",
    "    elif basket == 3:\n",
    "        three += 1\n",
    "print(\"1pt:\",one,\"\\n2pt:\",two,\"\\n3pt:\",three)\n",
    "\n"
   ]
  },
  {
   "cell_type": "markdown",
   "metadata": {},
   "source": [
    "# &nbsp;\n",
    "<font size=\"6\" color=\"#B24C00\"  face=\"verdana\"> <B>Task 2</B></font>\n",
    "##  iteration with `range(start)` & `range(start,stop)`\n"
   ]
  },
  {
   "cell_type": "code",
   "execution_count": 8,
   "metadata": {},
   "outputs": [
    {
     "name": "stdout",
     "output_type": "stream",
     "text": [
      "hello\n",
      "hello\n",
      "hello\n",
      "hello\n"
     ]
    }
   ],
   "source": [
    "# [ ] using range() print \"hello\" 4 times\n",
    "for count in range(0,4):\n",
    "    print(\"hello\")\n"
   ]
  },
  {
   "cell_type": "code",
   "execution_count": 17,
   "metadata": {},
   "outputs": [
    {
     "name": "stdout",
     "output_type": "stream",
     "text": [
      "1st half: "
     ]
    },
    {
     "ename": "TypeError",
     "evalue": "'bool' object is not iterable",
     "output_type": "error",
     "traceback": [
      "\u001b[1;31m---------------------------------------------------------------------------\u001b[0m",
      "\u001b[1;31mTypeError\u001b[0m                                 Traceback (most recent call last)",
      "\u001b[1;32m<ipython-input-17-a008dda29a49>\u001b[0m in \u001b[0;36m<module>\u001b[1;34m\u001b[0m\n\u001b[0;32m      6\u001b[0m \u001b[1;33m\u001b[0m\u001b[0m\n\u001b[0;32m      7\u001b[0m \u001b[0mprint\u001b[0m\u001b[1;33m(\u001b[0m\u001b[1;34m\"1st half:\"\u001b[0m\u001b[1;33m,\u001b[0m\u001b[0mend\u001b[0m\u001b[1;33m=\u001b[0m\u001b[1;34m\" \"\u001b[0m\u001b[1;33m)\u001b[0m\u001b[1;33m\u001b[0m\u001b[1;33m\u001b[0m\u001b[0m\n\u001b[1;32m----> 8\u001b[1;33m \u001b[1;32mfor\u001b[0m \u001b[0mcount\u001b[0m \u001b[1;32min\u001b[0m \u001b[0mspell_list\u001b[0m \u001b[1;32min\u001b[0m \u001b[0mrange\u001b[0m\u001b[1;33m(\u001b[0m\u001b[1;36m0\u001b[0m\u001b[1;33m,\u001b[0m\u001b[0mint\u001b[0m\u001b[1;33m(\u001b[0m\u001b[0mlen\u001b[0m\u001b[1;33m(\u001b[0m\u001b[0mspell_list\u001b[0m\u001b[1;33m)\u001b[0m\u001b[1;33m/\u001b[0m\u001b[1;36m2\u001b[0m\u001b[1;33m)\u001b[0m\u001b[1;33m)\u001b[0m\u001b[1;33m:\u001b[0m\u001b[1;33m\u001b[0m\u001b[1;33m\u001b[0m\u001b[0m\n\u001b[0m\u001b[0;32m      9\u001b[0m     \u001b[0mprint\u001b[0m\u001b[1;33m(\u001b[0m\u001b[0mcount\u001b[0m\u001b[1;33m)\u001b[0m\u001b[1;33m\u001b[0m\u001b[1;33m\u001b[0m\u001b[0m\n\u001b[0;32m     10\u001b[0m \u001b[1;33m\u001b[0m\u001b[0m\n",
      "\u001b[1;31mTypeError\u001b[0m: 'bool' object is not iterable"
     ]
    }
   ],
   "source": [
    "# [ ] find spell_list length\n",
    "# [ ] use range() to iterate each half of spell_list  \n",
    "# [ ] label & print the first and second halves\n",
    "spell_list = [\"Tuesday\", \"Wednesday\", \"February\", \"November\", \"Annual\", \"Calendar\", \"Solstice\"]\n",
    "range1 = range(0,int(len(spell_list)/2))\n",
    "\n",
    "\n"
   ]
  },
  {
   "cell_type": "code",
   "execution_count": 18,
   "metadata": {},
   "outputs": [
    {
     "name": "stdout",
     "output_type": "stream",
     "text": [
      "[20, 21, 22, 23, 24, 25, 26, 27, 28, 29]\n"
     ]
    }
   ],
   "source": [
    "# [ ] build a list of numbers from 20 to 29: twenties \n",
    "# append each number to twenties list using range(start,stop) iteration\n",
    "# [ ] print twenties\n",
    "\n",
    "twenties = list(range(20,30,1))\n",
    "print(twenties)\n"
   ]
  },
  {
   "cell_type": "code",
   "execution_count": 19,
   "metadata": {},
   "outputs": [
    {
     "name": "stdout",
     "output_type": "stream",
     "text": [
      "245\n"
     ]
    }
   ],
   "source": [
    "# [ ] iterate through the numbers populated in the list twenties and add each number to a variable: total\n",
    "# [ ] print total\n",
    "total = 0\n",
    "for number in twenties:\n",
    "    total += int(number)\n",
    "print(total)\n"
   ]
  },
  {
   "cell_type": "code",
   "execution_count": 20,
   "metadata": {},
   "outputs": [
    {
     "name": "stdout",
     "output_type": "stream",
     "text": [
      "245\n"
     ]
    }
   ],
   "source": [
    "# check your answer above using range(start,stop)\n",
    "# [ ] iterate each number from 20 to 29 using range()\n",
    "# [ ] add each number to a variable (total) to calculate the sum\n",
    "# should match earlier task \n",
    "total = 0\n",
    "\n",
    "for count in range(20,30,1):\n",
    "    total += count\n",
    "print(total)\n"
   ]
  },
  {
   "cell_type": "markdown",
   "metadata": {},
   "source": [
    "# &nbsp;\n",
    "<font size=\"6\" color=\"#B24C00\"  face=\"verdana\"> <B>Task 3</B></font>\n",
    "##  iteration with `range(start:stop:skip)`\n"
   ]
  },
  {
   "cell_type": "code",
   "execution_count": 21,
   "metadata": {},
   "outputs": [
    {
     "name": "stdout",
     "output_type": "stream",
     "text": [
      "[1, 3, 5, 7, 9, 11, 13, 15, 17, 19, 21, 23, 25]\n"
     ]
    }
   ],
   "source": [
    "# [ ] create a list of odd numbers (odd_nums) from 1 to 25 using range(start,stop,skip)\n",
    "# [ ] print odd_nums\n",
    "# hint: odd numbers are 2 digits apart\n",
    "odd_nums = list(range(1,26,2))\n",
    "print(odd_nums)\n"
   ]
  },
  {
   "cell_type": "code",
   "execution_count": 23,
   "metadata": {},
   "outputs": [
    {
     "name": "stdout",
     "output_type": "stream",
     "text": [
      "[25, 23, 21, 19, 17, 15, 13, 11, 9, 7, 5, 3, 1]\n"
     ]
    }
   ],
   "source": [
    "# [ ] create a Decending list of odd numbers (odd_nums) from 25 to 1 using range(start,stop,skip)\n",
    "# [ ] print odd_nums,  output should resemble [25, 23, ...]\n",
    "odd_nums.reverse()\n",
    "print(odd_nums)\n"
   ]
  },
  {
   "cell_type": "code",
   "execution_count": 27,
   "metadata": {},
   "outputs": [
    {
     "name": "stdout",
     "output_type": "stream",
     "text": [
      "2 - Lithium\n",
      "4 - Boron\n",
      "6 - Nitrogen\n",
      "8 - Fluorine\n",
      "10 - Sodium\n",
      "12 - Aluminum\n",
      "14 - Phosphorus\n",
      "16 - Chlorine\n",
      "18 - Potassium\n"
     ]
    }
   ],
   "source": [
    "# the list, elements, contains the names of the first 20 elements in atomic number order\n",
    "# [ ] print the even number elements \"2 - Helium, 4 - Beryllium,..\" in the list with the atomic number\n",
    "elements = ['Hydrogen', 'Helium', 'Lithium', 'Beryllium', 'Boron', 'Carbon', 'Nitrogen', 'Oxygen', 'Fluorine', \\\n",
    " 'Neon', 'Sodium', 'Magnesium', 'Aluminum', 'Silicon', 'Phosphorus', 'Sulfur', 'Chlorine', 'Argon', \\\n",
    " 'Potassium', 'Calcium']\n",
    "for number in range(2,19,2):\n",
    "    print(number,\"-\",elements[number])\n"
   ]
  },
  {
   "cell_type": "code",
   "execution_count": 31,
   "metadata": {},
   "outputs": [
    {
     "name": "stdout",
     "output_type": "stream",
     "text": [
      "1 - Helium\n",
      "3 - Beryllium\n",
      "5 - Carbon\n",
      "7 - Oxygen\n",
      "9 - Neon\n",
      "11 - Magnesium\n",
      "13 - Silicon\n",
      "15 - Sulfur\n",
      "17 - Argon\n",
      "19 - Calcium\n",
      "21 - Helium\n",
      "23 - Beryllium\n",
      "25 - Carbon\n",
      "27 - Oxygen\n",
      "29 - Neon\n",
      "31 - Magnesium\n",
      "33 - Silicon\n",
      "35 - Sulfur\n",
      "37 - Argon\n",
      "39 - Calcium\n",
      "41 - Titanium\n",
      "43 - Chromium\n",
      "45 - Iron\n",
      "47 - Nickel\n",
      "49 - Zinc\n",
      "51 - Germanium\n",
      "53 - Selenium\n",
      "55 - Krypton\n",
      "57 - Strontium\n",
      "59 - Zirconium\n"
     ]
    }
   ],
   "source": [
    "# [ ] # the list, elements_60, contains the names of the first 60 elements in atomic number order\n",
    "# [ ] print the odd number elements \"1 - Hydrogen, 3 - Lithium,..\" in the list with the atomic number elements_60\n",
    "elements_60 = ['Hydrogen', 'Helium', 'Lithium', 'Beryllium', 'Boron', 'Carbon', 'Nitrogen', \\\n",
    " 'Oxygen', 'Fluorine', 'Neon', 'Sodium', 'Magnesium', 'Aluminum', 'Silicon', \\\n",
    " 'Phosphorus', 'Sulfur', 'Chlorine', 'Argon', 'Potassium', 'Calcium', 'Hydrogen', \\\n",
    " 'Helium', 'Lithium', 'Beryllium', 'Boron', 'Carbon', 'Nitrogen', 'Oxygen', 'Fluorine', \\\n",
    " 'Neon', 'Sodium', 'Magnesium', 'Aluminum', 'Silicon', 'Phosphorus', 'Sulfur', 'Chlorine', \\\n",
    " 'Argon', 'Potassium', 'Calcium', 'Scandium', 'Titanium', 'Vanadium', 'Chromium', 'Manganese', \\\n",
    " 'Iron', 'Cobalt', 'Nickel', 'Copper', 'Zinc', 'Gallium', 'Germanium', 'Arsenic', 'Selenium', \\\n",
    " 'Bromine', 'Krypton', 'Rubidium', 'Strontium', 'Yttrium', 'Zirconium']\n",
    "\n",
    "for element in range(1,61,2):\n",
    "    print(element,\"-\",elements_60[element])\n"
   ]
  },
  {
   "cell_type": "code",
   "execution_count": null,
   "metadata": {},
   "outputs": [],
   "source": []
  },
  {
   "cell_type": "markdown",
   "metadata": {},
   "source": [
    "# &nbsp;\n",
    "<font size=\"6\" color=\"#B24C00\"  face=\"verdana\"> <B>Task 4</B></font>\n",
    "## combine lists with `+` and `.extend()`"
   ]
  },
  {
   "cell_type": "code",
   "execution_count": 32,
   "metadata": {},
   "outputs": [
    {
     "name": "stdout",
     "output_type": "stream",
     "text": [
      "numbers_1: [20, 21, 22, 23, 24, 25, 26, 27, 28, 29]\n",
      "numbers_2 [30, 32, 34, 36, 38, 40, 42, 44, 46, 48]\n",
      "combined: [20, 21, 22, 23, 24, 25, 26, 27, 28, 29, 30, 32, 34, 36, 38, 40, 42, 44, 46, 48]\n"
     ]
    }
   ],
   "source": [
    "# [ ] print the combined lists (numbers_1 & numbers_2) using \"+\" operator\n",
    "numbers_1 = [20, 21, 22, 23, 24, 25, 26, 27, 28, 29]\n",
    "\n",
    "# pythonic casting of a range into a list\n",
    "numbers_2 = list(range(30,50,2))\n",
    "\n",
    "print(\"numbers_1:\",numbers_1)\n",
    "print(\"numbers_2\",numbers_2)\n",
    "\n",
    "print(\"combined:\",numbers_1 + numbers_2)\n"
   ]
  },
  {
   "cell_type": "code",
   "execution_count": 34,
   "metadata": {},
   "outputs": [
    {
     "name": "stdout",
     "output_type": "stream",
     "text": [
      "1st Row: ['Hydrogen', 'Helium']\n",
      "2nd Row: ['Lithium', 'Beryllium', 'Boron', 'Carbon', 'Nitrogen', 'Oxygen', 'Fluorine', 'Neon']\n",
      "Combined: ['Hydrogen', 'Helium', 'Lithium', 'Beryllium', 'Boron', 'Carbon', 'Nitrogen', 'Oxygen', 'Fluorine', 'Neon']\n"
     ]
    }
   ],
   "source": [
    "# [ ] print the combined element lists (first_row & second_row) using \".extend()\" method\n",
    "first_row = ['Hydrogen', 'Helium']\n",
    "second_row = ['Lithium', 'Beryllium', 'Boron', 'Carbon', 'Nitrogen', 'Oxygen', 'Fluorine', 'Neon']\n",
    "\n",
    "print(\"1st Row:\", first_row)\n",
    "print(\"2nd Row:\", second_row)\n",
    "\n",
    "first_row.extend(second_row)\n",
    "print(\"Combined:\", first_row)\n"
   ]
  },
  {
   "cell_type": "markdown",
   "metadata": {},
   "source": [
    "## Project: Combine 3 element rows\n",
    "Choose to use **\"+\" or \".extend()\" **to build output similar to   \n",
    "\n",
    "```\n",
    "The 1st three rows of the Period Table of Elements contain:\n",
    "['Hydrogen', 'Helium', 'Lithium', 'Beryllium', 'Boron', 'Carbon', 'Nitrogen', 'Oxygen', 'Fluorine', 'Neon', 'Sodium', 'Magnesium', 'Aluminum', 'Silicon', 'Phosphorus', 'Sulfur', 'Chlorine', 'Argon']\n",
    "\n",
    "The row breakdown is\n",
    "Row 1: Hydrogen, Helium\n",
    "Row 2: Lithium, Beryllium, Boron, Carbon, Nitrogen, Oxygen, Fluorine, Neon\n",
    "Row 3: Sodium, Magnesium, Aluminum, Silicon, Phosphorus, Sulfur, Chlorine, Argon\n",
    "```"
   ]
  },
  {
   "cell_type": "code",
   "execution_count": 35,
   "metadata": {},
   "outputs": [
    {
     "name": "stdout",
     "output_type": "stream",
     "text": [
      "The first 3 rows of the periodic table contain:\n",
      " ['Hydrogen', 'Helium', 'Lithium', 'Beryllium', 'Boron', 'Carbon', 'Nitrogen', 'Oxygen', 'Fluorine', 'Neon', 'Sodium', 'Magnesium', 'Aluminum', 'Silicon', 'Phosphorus', 'Sulfur', 'Chlorine', 'Argon'] \n",
      "\n",
      "The row breakdown is:\n",
      "Row 1: ['Hydrogen', 'Helium'] \n",
      "Row 2: ['Lithium', 'Beryllium', 'Boron', 'Carbon', 'Nitrogen', 'Oxygen', 'Fluorine', 'Neon'] \n",
      "Row 3: ['Sodium', 'Magnesium', 'Aluminum', 'Silicon', 'Phosphorus', 'Sulfur', 'Chlorine', 'Argon']\n"
     ]
    }
   ],
   "source": [
    "# [ ] create the program: combined 3 element rows \n",
    "\n",
    "elem_1 = ['Hydrogen', 'Helium'] \n",
    "elem_2 = ['Lithium', 'Beryllium', 'Boron', 'Carbon', 'Nitrogen', 'Oxygen', 'Fluorine', 'Neon']\n",
    "elem_3 = ['Sodium', 'Magnesium', 'Aluminum', 'Silicon', 'Phosphorus', 'Sulfur', 'Chlorine', 'Argon']\n",
    "combo = elem_1 + elem_2 + elem_3\n",
    "\n",
    "print(\"The first 3 rows of the periodic table contain:\\n\",combo,\"\\n\")\n",
    "print(\"The row breakdown is:\\nRow 1:\",elem_1,\"\\nRow 2:\",elem_2,\"\\nRow 3:\",elem_3)\n"
   ]
  },
  {
   "cell_type": "code",
   "execution_count": 36,
   "metadata": {},
   "outputs": [
    {
     "name": "stdout",
     "output_type": "stream",
     "text": [
      "['Jack', 'and', 'Jill', 'went', 'up', 'the', 'hill', 'To', 'fetch', 'a', 'pail', 'of', 'water']\n"
     ]
    }
   ],
   "source": [
    "# [ ] .extend() jack_jill with \"next_line\" string - print the result\n",
    "jack_jill = ['Jack', 'and', 'Jill', 'went', 'up', 'the', 'hill']\n",
    "next_line = ['To', 'fetch', 'a', 'pail', 'of', 'water']\n",
    "\n",
    "jack_jill.extend(next_line)\n",
    "print(jack_jill)\n"
   ]
  },
  {
   "cell_type": "markdown",
   "metadata": {},
   "source": [
    "# &nbsp;\n",
    "<font size=\"6\" color=\"#B24C00\"  face=\"verdana\"> <B>Task 5</B></font>\n",
    "## .reverse() : reverse a list in place"
   ]
  },
  {
   "cell_type": "code",
   "execution_count": 37,
   "metadata": {},
   "outputs": [
    {
     "name": "stdout",
     "output_type": "stream",
     "text": [
      "['Sulfur', 'Sodium', 'Silicon', 'Potassium', 'Phosphorus', 'Oxygen', 'Nitrogen', 'Neon', 'Magnesium', 'Lithium', 'Hydrogen', 'Helium', 'Fluorine', 'Chlorine', 'Carbon', 'Calcium', 'Boron', 'Beryllium', 'Argon', 'Aluminum']\n"
     ]
    }
   ],
   "source": [
    "# [ ] use .reverse() to print elements starting with \"Calcium\", \"Chlorine\",... in reverse order\n",
    "elements = ['Hydrogen', 'Helium', 'Lithium', 'Beryllium', 'Boron', 'Carbon', 'Nitrogen', 'Oxygen', 'Fluorine', \\\n",
    " 'Neon', 'Sodium', 'Magnesium', 'Aluminum', 'Silicon', 'Phosphorus', 'Sulfur', 'Chlorine', 'Argon', \\\n",
    " 'Potassium', 'Calcium']\n",
    "\n",
    "elements.sort()\n",
    "elements.reverse()\n",
    "\n",
    "print(elements)"
   ]
  },
  {
   "cell_type": "code",
   "execution_count": 38,
   "metadata": {},
   "outputs": [
    {
     "name": "stdout",
     "output_type": "stream",
     "text": [
      "Solstice\n",
      "Calendar\n",
      "November\n",
      "February\n",
      "Wednesday\n"
     ]
    }
   ],
   "source": [
    "# [ ] reverse order of the list... Then print only words that are 8 characters or longer from the now reversed order\n",
    "spell_list = [\"Tuesday\", \"Wednesday\", \"February\", \"November\", \"Annual\", \"Calendar\", \"Solstice\"]\n",
    "spell_list.reverse()\n",
    "\n",
    "for word in spell_list:\n",
    "    if len(word) > 7:\n",
    "        print(word)\n",
    "    else:\n",
    "        pass\n"
   ]
  },
  {
   "cell_type": "markdown",
   "metadata": {},
   "source": [
    "# &nbsp;\n",
    "<font size=\"6\" color=\"#B24C00\"  face=\"verdana\"> <B>Task 6</B></font>\n",
    "## .sort() and sorted()"
   ]
  },
  {
   "cell_type": "code",
   "execution_count": 39,
   "metadata": {},
   "outputs": [
    {
     "name": "stdout",
     "output_type": "stream",
     "text": [
      "['Aluminum', 'Argon', 'Beryllium', 'Boron', 'Calcium', 'Carbon', 'Chlorine', 'Fluorine', 'Helium', 'Hydrogen', 'Lithium', 'Magnesium', 'Neon', 'Nitrogen', 'Oxygen', 'Phosphorus', 'Potassium', 'Silicon', 'Sodium', 'Sulfur']\n"
     ]
    }
   ],
   "source": [
    "# [ ] sort the list element, so names are in alphabetical order and print elements\n",
    "elements = ['Hydrogen', 'Helium', 'Lithium', 'Beryllium', 'Boron', 'Carbon', 'Nitrogen', 'Oxygen', 'Fluorine', \\\n",
    " 'Neon', 'Sodium', 'Magnesium', 'Aluminum', 'Silicon', 'Phosphorus', 'Sulfur', 'Chlorine', 'Argon', \\\n",
    " 'Potassium', 'Calcium']\n",
    "\n",
    "elements.sort()\n",
    "print(elements)\n"
   ]
  },
  {
   "cell_type": "code",
   "execution_count": 40,
   "metadata": {},
   "outputs": [
    {
     "name": "stdout",
     "output_type": "stream",
     "text": [
      "Sorted: [1, 1, 1, 1, 2, 2, 2, 2, 2, 2, 2, 2, 3, 3, 3]\n",
      "Original: [2, 2, 2, 1, 2, 1, 3, 3, 1, 2, 2, 2, 2, 1, 3]\n"
     ]
    }
   ],
   "source": [
    "# [ ] print the list, numbers, sorted and then below print the original numbers list \n",
    "numbers = [2,2,2,1,2,1,3,3,1,2,2,2,2,1,3]\n",
    "sort = sorted(numbers)\n",
    "\n",
    "print(\"Sorted:\",sort)\n",
    "print(\"Original:\",numbers)\n"
   ]
  },
  {
   "cell_type": "markdown",
   "metadata": {},
   "source": [
    "# &nbsp;\n",
    "<font size=\"6\" color=\"#B24C00\"  face=\"verdana\"> <B>Task 7</B></font>\n",
    "## Converting a string to a list with `.split()`"
   ]
  },
  {
   "cell_type": "code",
   "execution_count": 42,
   "metadata": {},
   "outputs": [
    {
     "name": "stdout",
     "output_type": "stream",
     "text": [
      "Did\n",
      "you\n",
      "know\n",
      "that\n",
      "there\n",
      "are\n",
      "1.4\n",
      "billion\n",
      "students\n",
      "in\n",
      "the\n",
      "world?\n"
     ]
    }
   ],
   "source": [
    "# [ ] split the string, daily_fact, into a list of word strings: fact_words\n",
    "# [ ] print each string in fact_words in upper case on it's own line\n",
    "daily_fact = \"Did you know that there are 1.4 billion students in the world?\"\n",
    "\n",
    "fact_words = daily_fact.split()\n",
    "\n",
    "for word in fact_words:\n",
    "    print(word)"
   ]
  },
  {
   "cell_type": "code",
   "execution_count": 43,
   "metadata": {},
   "outputs": [
    {
     "name": "stdout",
     "output_type": "stream",
     "text": [
      "['#N', 'tes tend t', ' be helpful.']\n"
     ]
    }
   ],
   "source": [
    "# [ ] convert the string, code_tip, into a list made from splitting on the letter \"o\"\n",
    "\n",
    "code_tip = \"#Notes tend to be helpful.\"\n",
    "new_list = code_tip.split(\"o\")\n",
    "\n",
    "print(new_list)\n"
   ]
  },
  {
   "cell_type": "code",
   "execution_count": 44,
   "metadata": {},
   "outputs": [
    {
     "name": "stdout",
     "output_type": "stream",
     "text": [
      "The \n",
      "right \n",
      "rain, has \n",
      "ran!\n"
     ]
    }
   ],
   "source": [
    "# [ ] split poem on \"b\" to create a list: poem_words\n",
    "# [ ] print poem_words by iterating the list\n",
    "poem = \"The bright brain, has bran!\"\n",
    "poem_words = poem.split(\"b\")\n",
    "\n",
    "for word in poem_words:\n",
    "    print(word)\n"
   ]
  },
  {
   "cell_type": "markdown",
   "metadata": {},
   "source": [
    "# &nbsp;\n",
    "<font size=\"6\" color=\"#B24C00\"  face=\"verdana\"> <B>Task 8</B></font>\n",
    "## `.join()`\n",
    "### build a string from a list"
   ]
  },
  {
   "cell_type": "code",
   "execution_count": 47,
   "metadata": {},
   "outputs": [
    {
     "name": "stdout",
     "output_type": "stream",
     "text": [
      "Chlorine,Florine,Bromine,Iodine\n"
     ]
    }
   ],
   "source": [
    "# [ ] print a comma separated string output from the list of Halogen elements using \".join()\"\n",
    "halogens = ['Chlorine', 'Florine', 'Bromine', 'Iodine']\n",
    "\n",
    "print(\",\".join(halogens))\n"
   ]
  },
  {
   "cell_type": "code",
   "execution_count": 49,
   "metadata": {},
   "outputs": [
    {
     "name": "stdout",
     "output_type": "stream",
     "text": [
      "Read-code-aloud-or-explain-the-code-step-by-step-to-a-peer\n"
     ]
    }
   ],
   "source": [
    "# [ ] split the sentence, code_tip, into a words list\n",
    "# [ ] print the joined words in the list with no spaces in-between\n",
    "# [ ] Bonus: capitalize each word in the list before .join()\n",
    "code_tip =\"Read code aloud or explain the code step by step to a peer\"\n",
    "words = code_tip.split(\" \")\n",
    "\n",
    "print(\"-\".join(words))\n"
   ]
  },
  {
   "cell_type": "markdown",
   "metadata": {},
   "source": [
    "# &nbsp;\n",
    "<font size=\"6\" color=\"#B24C00\"  face=\"verdana\"> <B>Task 8</B></font>  \n",
    "## `list(string)` & `print(\"hello\",end=' ')`\n",
    "\n",
    "- **Cast a string to a list** \n",
    "- **print to the same line**   "
   ]
  },
  {
   "cell_type": "code",
   "execution_count": 50,
   "metadata": {},
   "outputs": [
    {
     "name": "stdout",
     "output_type": "stream",
     "text": [
      "d\n",
      "e\n",
      "c\n",
      "e\n",
      "l\n",
      "e\n",
      "r\n",
      "a\n",
      "t\n",
      "i\n",
      "n\n",
      "g\n"
     ]
    }
   ],
   "source": [
    "# [ ] cast the long_word into individual letters list \n",
    "# [ ] print each letter on a line\n",
    "long_word = 'decelerating'\n",
    "letters = list(long_word)\n",
    "\n",
    "for letter in letters:\n",
    "    print(letter)\n"
   ]
  },
  {
   "cell_type": "code",
   "execution_count": 84,
   "metadata": {},
   "outputs": [
    {
     "name": "stdout",
     "output_type": "stream",
     "text": [
      "What's the closest planet to the Sun?\n",
      "How deep do Dolphins swim?\n",
      "What time is it?\n"
     ]
    }
   ],
   "source": [
    "# [ ] use use end= in print to output each string in questions with a \"?\" and on new lines\n",
    "questions = [\"What's the closest planet to the Sun\", \"How deep do Dolphins swim\", \"What time is it\"]\n",
    "\n",
    "for question in questions:\n",
    "    print(question,  end=\"?\\n\")\n"
   ]
  },
  {
   "cell_type": "code",
   "execution_count": 80,
   "metadata": {},
   "outputs": [
    {
     "name": "stdout",
     "output_type": "stream",
     "text": [
      "Calcaneus, Talus, Cuboid, Navicular, Lateral Cuneiform, Intermediate Cuneiform, Medial Cuneiform\n"
     ]
    }
   ],
   "source": [
    "# [ ] print each item in foot bones \n",
    "#    - capitalized, both words if two word name\n",
    "#    - separated by a comma and space\n",
    "#    - and keeping on a single print line\n",
    "foot_bones = [\"calcaneus\", \"talus\", \"cuboid\", \"navicular\", \"lateral cuneiform\", \n",
    "            \"intermediate cuneiform\", \"medial cuneiform\"]\n",
    "capitalized = []\n",
    "\n",
    "for bone in foot_bones:\n",
    "    add = bone.title()\n",
    "    capitalized.append(add)\n",
    "\n",
    "print(\", \".join(capitalized))"
   ]
  },
  {
   "cell_type": "markdown",
   "metadata": {},
   "source": [
    "[Terms of use](http://go.microsoft.com/fwlink/?LinkID=206977) &nbsp; [Privacy & cookies](https://go.microsoft.com/fwlink/?LinkId=521839) &nbsp; © 2017 Microsoft"
   ]
  }
 ],
 "metadata": {
  "anaconda-cloud": {},
  "kernelspec": {
   "display_name": "Python 3",
   "language": "python",
   "name": "python3"
  },
  "language_info": {
   "codemirror_mode": {
    "name": "ipython",
    "version": 3
   },
   "file_extension": ".py",
   "mimetype": "text/x-python",
   "name": "python",
   "nbconvert_exporter": "python",
   "pygments_lexer": "ipython3",
   "version": "3.8.5"
  }
 },
 "nbformat": 4,
 "nbformat_minor": 1
}
